{
 "cells": [
  {
   "cell_type": "code",
   "execution_count": 1,
   "id": "d5f995bd",
   "metadata": {},
   "outputs": [
    {
     "data": {
      "text/html": [
       "<div>\n",
       "<style scoped>\n",
       "    .dataframe tbody tr th:only-of-type {\n",
       "        vertical-align: middle;\n",
       "    }\n",
       "\n",
       "    .dataframe tbody tr th {\n",
       "        vertical-align: top;\n",
       "    }\n",
       "\n",
       "    .dataframe thead th {\n",
       "        text-align: right;\n",
       "    }\n",
       "</style>\n",
       "<table border=\"1\" class=\"dataframe\">\n",
       "  <thead>\n",
       "    <tr style=\"text-align: right;\">\n",
       "      <th></th>\n",
       "      <th>TV</th>\n",
       "      <th>RÁDIO</th>\n",
       "      <th>JORNAL</th>\n",
       "      <th>VENDAS</th>\n",
       "    </tr>\n",
       "  </thead>\n",
       "  <tbody>\n",
       "    <tr>\n",
       "      <th>0</th>\n",
       "      <td>230.1</td>\n",
       "      <td>37.8</td>\n",
       "      <td>69.2</td>\n",
       "      <td>22.1</td>\n",
       "    </tr>\n",
       "    <tr>\n",
       "      <th>1</th>\n",
       "      <td>44.5</td>\n",
       "      <td>39.3</td>\n",
       "      <td>45.1</td>\n",
       "      <td>10.4</td>\n",
       "    </tr>\n",
       "    <tr>\n",
       "      <th>2</th>\n",
       "      <td>17.2</td>\n",
       "      <td>45.9</td>\n",
       "      <td>69.3</td>\n",
       "      <td>12.0</td>\n",
       "    </tr>\n",
       "    <tr>\n",
       "      <th>3</th>\n",
       "      <td>151.5</td>\n",
       "      <td>41.3</td>\n",
       "      <td>58.5</td>\n",
       "      <td>16.5</td>\n",
       "    </tr>\n",
       "    <tr>\n",
       "      <th>4</th>\n",
       "      <td>180.8</td>\n",
       "      <td>10.8</td>\n",
       "      <td>58.4</td>\n",
       "      <td>17.9</td>\n",
       "    </tr>\n",
       "    <tr>\n",
       "      <th>5</th>\n",
       "      <td>38.2</td>\n",
       "      <td>3.7</td>\n",
       "      <td>13.8</td>\n",
       "      <td>7.6</td>\n",
       "    </tr>\n",
       "    <tr>\n",
       "      <th>6</th>\n",
       "      <td>94.2</td>\n",
       "      <td>4.9</td>\n",
       "      <td>8.1</td>\n",
       "      <td>14.0</td>\n",
       "    </tr>\n",
       "  </tbody>\n",
       "</table>\n",
       "</div>"
      ],
      "text/plain": [
       "      TV  RÁDIO  JORNAL  VENDAS\n",
       "0  230.1   37.8    69.2    22.1\n",
       "1   44.5   39.3    45.1    10.4\n",
       "2   17.2   45.9    69.3    12.0\n",
       "3  151.5   41.3    58.5    16.5\n",
       "4  180.8   10.8    58.4    17.9\n",
       "5   38.2    3.7    13.8     7.6\n",
       "6   94.2    4.9     8.1    14.0"
      ]
     },
     "metadata": {},
     "output_type": "display_data"
    }
   ],
   "source": [
    "#Lembrar da metodologia CRISP-DM.\n",
    "#Importar a base de dados.\n",
    "import pandas as pd\n",
    "tabela = pd.read_excel(r\"C:\\Users\\jjosi\\Downloads\\Tabela Investimentos (1).xlsx\")\n",
    "display(tabela)"
   ]
  },
  {
   "cell_type": "code",
   "execution_count": 2,
   "id": "f023d4e1",
   "metadata": {},
   "outputs": [
    {
     "name": "stdout",
     "output_type": "stream",
     "text": [
      "              TV     RÁDIO    JORNAL    VENDAS\n",
      "TV      1.000000  0.021427  0.404257  0.938959\n",
      "RÁDIO   0.021427  1.000000  0.784694  0.233401\n",
      "JORNAL  0.404257  0.784694  1.000000  0.576321\n",
      "VENDAS  0.938959  0.233401  0.576321  1.000000\n"
     ]
    }
   ],
   "source": [
    "#A correlação pode ir de -1 a 1 ou de 0 a 1.\n",
    "#A correlação diz o quão caminhando na mesma direção estão duas coisas. \n",
    "#Correlação na análise de dados refere-se a uma medida estatística que indica a extensão e a direção do \n",
    "#relacionamento linear entre duas variáveis. A correlação pode ser positiva, negativa ou inexistente (neutra).\n",
    "#Correlação Positiva: Quando duas variáveis aumentam ou diminuem juntas.\n",
    "#Correlação Negativa: Quando uma variável aumenta enquanto a outra diminui.\n",
    "#Correlação Neutra (ou zero): Quando não há nenhuma relação linear entre duas variáveis.\n",
    "#O coeficiente de correlação de Pearson é calculado usando a fórmula:\n",
    "#[Somatório((x - média de x)*(y - média de y))]/[Somatório(x - média de x)² * Somatório(y - média de y)²]^1/2\n",
    "print(tabela.corr())"
   ]
  },
  {
   "cell_type": "code",
   "execution_count": null,
   "id": "bf885f8c",
   "metadata": {},
   "outputs": [],
   "source": [
    "#Estudo de correlação é uma coisa, estudo de sazonalidade é outra.\n",
    "#Análise: a TV impacta muito mais nas vendas do que o Rádio ou o Jornal."
   ]
  },
  {
   "cell_type": "code",
   "execution_count": 4,
   "id": "28c1bc6e",
   "metadata": {},
   "outputs": [],
   "source": [
    "#Criação da inteligência artificial.\n",
    "#Para fazer uma análise com inteligência artificial, precisamos dividir os dados em duas partes.\n",
    "#Vamos dividir a base em x e y. Y é a variável que estamos querendo prever. X são todas as outras variáveis.\n",
    "y = tabela[\"VENDAS\"]\n",
    "#Quando você seleciona apenas uma coluna da tabela, coloca-se apenas um colchete. Quando se seleciona mais do que uma coluna, \n",
    "#coloca-se mais de um colchete. \n",
    "x = tabela[[\"TV\",\"RÁDIO\",\"JORNAL\"]]\n",
    "#Se você der todos os dados para a inteligência artificial aprender, ela não vai aprender, ela vai decorar.\n",
    "#Por isso, devemos dividir os dados em dados de treino e dados de teste. Com isso, a inteligência artificial vai usar dados de\n",
    "#x para treino e dados de x para teste. Também vai usar dados de y para treino e dados de y para teste.Normalmente, os dados\n",
    "#de treino são maiores que os dados de teste."
   ]
  },
  {
   "cell_type": "code",
   "execution_count": 3,
   "id": "cbb9f4e0",
   "metadata": {},
   "outputs": [
    {
     "name": "stdout",
     "output_type": "stream",
     "text": [
      "Requirement already satisfied: scikit-learn in c:\\users\\jjosi\\anaconda3\\lib\\site-packages (1.0.2)\n",
      "Requirement already satisfied: scipy>=1.1.0 in c:\\users\\jjosi\\anaconda3\\lib\\site-packages (from scikit-learn) (1.9.1)\n",
      "Requirement already satisfied: joblib>=0.11 in c:\\users\\jjosi\\anaconda3\\lib\\site-packages (from scikit-learn) (1.1.0)\n",
      "Requirement already satisfied: threadpoolctl>=2.0.0 in c:\\users\\jjosi\\anaconda3\\lib\\site-packages (from scikit-learn) (2.2.0)\n",
      "Requirement already satisfied: numpy>=1.14.6 in c:\\users\\jjosi\\anaconda3\\lib\\site-packages (from scikit-learn) (1.21.5)\n"
     ]
    }
   ],
   "source": [
    "!pip install scikit-learn"
   ]
  },
  {
   "cell_type": "code",
   "execution_count": 13,
   "id": "a561855c",
   "metadata": {},
   "outputs": [],
   "source": [
    "from sklearn.model_selection import train_test_split\n",
    "#Split significa dividir. Então, a inteligência artificial divide em dados de treino e dados de teste.\n",
    "#A linha de código a seguir poderia ter outros nomes para x de treino ou x de teste, por exemplo, mas a ordem deve ser primeiro\n",
    "#os dados de treino e depois os dados de teste. \n",
    "#Não tem uma quantidade mínima de informações para o algoritmo conseguir aprender. \n",
    "x_treino, x_teste, y_treino, y_teste = train_test_split(x,y)\n",
    "#O scikit divide os dados na seguinte proporção: 70% para treino e 30% para teste. Existe a opção de alterar essa proporção\n",
    "#Por exemplo: x_treino, x_teste, y_treino, y_teste = train_test_split(x,y, test_size = 0.2) \n",
    "#Neste caso, ela pega 20% dos dados para teste. \n",
    "#Cada inteligência artificial aprende de um jeito diferente. Neste caso, vamos usar duas delas, a Árvore de decisão e a \n",
    "#Regressão Linear."
   ]
  },
  {
   "cell_type": "code",
   "execution_count": 14,
   "id": "cf046b8e",
   "metadata": {},
   "outputs": [
    {
     "data": {
      "text/plain": [
       "RandomForestRegressor()"
      ]
     },
     "execution_count": 14,
     "metadata": {},
     "output_type": "execute_result"
    }
   ],
   "source": [
    "#Importar a inteligência artificial.\n",
    "from sklearn.linear_model import LinearRegression\n",
    "from sklearn.ensemble import RandomForestRegressor\n",
    "#Criar a inteligência artificial.\n",
    "modelo_regressao = LinearRegression()\n",
    "modelo_arvore = RandomForestRegressor()\n",
    "#Treinar a inteligência artificial. \n",
    "modelo_regressao.fit(x_treino,y_treino)\n",
    "#Fit = treino\n",
    "modelo_arvore.fit(x_treino,y_treino)"
   ]
  },
  {
   "cell_type": "code",
   "execution_count": 15,
   "id": "6d03ea77",
   "metadata": {},
   "outputs": [
    {
     "name": "stdout",
     "output_type": "stream",
     "text": [
      "-4.739694719999994\n",
      "-5.503558150301054\n"
     ]
    }
   ],
   "source": [
    "#Previsão dos dois modelos com base nos dados de treino e comparar as duas previsões. A previsão que estiver mais\n",
    "#próxima do y de teste é o melhor modelo.\n",
    "previsão_arvore = modelo_arvore.predict(x_teste)\n",
    "previsão_regressão = modelo_regressao.predict(x_teste)\n",
    "#Predict = previsão\n",
    "#Para comparar as duas previsões usaremos o R². O R² diz o percentual que o nosso modelo consegue explicar o que acontece. \n",
    "#Quanto mais próximo de 100% melhor.\n",
    "from sklearn.metrics import r2_score\n",
    "print(r2_score(y_teste,previsão_arvore))\n",
    "print(r2_score(y_teste,previsão_regressão))"
   ]
  },
  {
   "cell_type": "code",
   "execution_count": null,
   "id": "77c0bed5",
   "metadata": {},
   "outputs": [],
   "source": [
    "#Existe uma chance da previsão estar viciada, isso quer dizer que você treinou tanto ela com os dados de treino\n",
    "# que ela ficou sobreajustada ou viciada nas informações de treino. Isso se chama \"overfitting\"."
   ]
  },
  {
   "cell_type": "code",
   "execution_count": 16,
   "id": "e442d821",
   "metadata": {},
   "outputs": [
    {
     "data": {
      "text/html": [
       "<div>\n",
       "<style scoped>\n",
       "    .dataframe tbody tr th:only-of-type {\n",
       "        vertical-align: middle;\n",
       "    }\n",
       "\n",
       "    .dataframe tbody tr th {\n",
       "        vertical-align: top;\n",
       "    }\n",
       "\n",
       "    .dataframe thead th {\n",
       "        text-align: right;\n",
       "    }\n",
       "</style>\n",
       "<table border=\"1\" class=\"dataframe\">\n",
       "  <thead>\n",
       "    <tr style=\"text-align: right;\">\n",
       "      <th></th>\n",
       "      <th>TV</th>\n",
       "      <th>RÁDIO</th>\n",
       "      <th>JORNAL</th>\n",
       "    </tr>\n",
       "  </thead>\n",
       "  <tbody>\n",
       "    <tr>\n",
       "      <th>0</th>\n",
       "      <td>45</td>\n",
       "      <td>38</td>\n",
       "      <td>44</td>\n",
       "    </tr>\n",
       "  </tbody>\n",
       "</table>\n",
       "</div>"
      ],
      "text/plain": [
       "   TV  RÁDIO  JORNAL\n",
       "0  45     38      44"
      ]
     },
     "metadata": {},
     "output_type": "display_data"
    }
   ],
   "source": [
    "nova_tabela = pd.read_excel(r\"C:\\Users\\jjosi\\OneDrive\\Documentos\\Tabela Teste.xlsx\")\n",
    "display(nova_tabela)"
   ]
  },
  {
   "cell_type": "code",
   "execution_count": 17,
   "id": "894ada81",
   "metadata": {},
   "outputs": [
    {
     "name": "stdout",
     "output_type": "stream",
     "text": [
      "[12.205]\n"
     ]
    }
   ],
   "source": [
    "#Previsão usando como teste os dados da tabela que eu importei \"nova_tabela\" a partir da árvore de decisão\n",
    "previsão_1 = modelo_arvore.predict(nova_tabela)\n",
    "print(previsão_1)"
   ]
  },
  {
   "cell_type": "code",
   "execution_count": 18,
   "id": "ac6eae57",
   "metadata": {},
   "outputs": [
    {
     "name": "stdout",
     "output_type": "stream",
     "text": [
      "[10.77453429]\n"
     ]
    }
   ],
   "source": [
    "#Previsão usando como teste os dados da tabela que eu importei \"nova_tabela\" a partir da árvore de decisão\n",
    "previsão_2 = modelo_regressao.predict(nova_tabela)\n",
    "print(previsão_2)"
   ]
  },
  {
   "cell_type": "code",
   "execution_count": null,
   "id": "2c446a88",
   "metadata": {},
   "outputs": [],
   "source": [
    "#Exemplo: Seu chefe chega e diz: quanto iremos vender se investirmos x em TV, y em RÁDIO e z em JORNAL?\n",
    "#Você pode usar essas duas inteligências artificiais para fazer a previsão."
   ]
  }
 ],
 "metadata": {
  "kernelspec": {
   "display_name": "Python 3 (ipykernel)",
   "language": "python",
   "name": "python3"
  },
  "language_info": {
   "codemirror_mode": {
    "name": "ipython",
    "version": 3
   },
   "file_extension": ".py",
   "mimetype": "text/x-python",
   "name": "python",
   "nbconvert_exporter": "python",
   "pygments_lexer": "ipython3",
   "version": "3.9.13"
  }
 },
 "nbformat": 4,
 "nbformat_minor": 5
}
